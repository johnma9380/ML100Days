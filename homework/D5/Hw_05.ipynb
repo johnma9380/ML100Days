{
 "metadata": {
  "language_info": {
   "codemirror_mode": {
    "name": "ipython",
    "version": 3
   },
   "file_extension": ".py",
   "mimetype": "text/x-python",
   "name": "python",
   "nbconvert_exporter": "python",
   "pygments_lexer": "ipython3",
   "version": "3.6.7"
  },
  "orig_nbformat": 2,
  "kernelspec": {
   "name": "python3",
   "display_name": "Python 3.6.7 64-bit"
  },
  "interpreter": {
   "hash": "5a4f342289a60266f47f54c626edf5b13139f3ecb7a50e573cd4978623e851f2"
  }
 },
 "nbformat": 4,
 "nbformat_minor": 2,
 "cells": [
  {
   "cell_type": "code",
   "execution_count": 174,
   "source": [
    "import pandas as pd\r\n",
    "import numpy as np\r\n",
    "import matplotlib.pyplot as plt\r\n",
    "\r\n",
    "from sklearn.model_selection import train_test_split\r\n",
    "from sklearn.tree import DecisionTreeRegressor\r\n",
    "from sklearn.metrics import mean_squared_error as MSE\r\n",
    "from sklearn.metrics import mean_absolute_error as MAE\r\n",
    "from sklearn.metrics import mean_absolute_percentage_error as MAPE"
   ],
   "outputs": [],
   "metadata": {}
  },
  {
   "cell_type": "markdown",
   "source": [
    "## 解題步驟：\n",
    "\n",
    "1. 讀取 x_train.npy, y_train.npy, x_test.npy, y_test.npy\n",
    "2. 將 training dataset 再切分為 training set, validation set (圖一)\n",
    "3. 先以上課的知識調整出一個不會 over-fitting 太多的決策樹模型\n",
    "4. 以 validation set 作為調整參數的基準，陸續調整其他參數 (請同學測試看看 validation 要佔多少比例，後續的調整會比較客觀)\n",
    "5. 將最終調整結果與一開始的決策樹做比較，誤差是否有降低\n",
    "6. 同學若也懂其他模型的知識也可以試試看一樣的做法比較看看\n",
    "\n",
    "#### 圖一 (Train, Validation and Test)\n",
    "<img src=\"./train_val_test.png\" style=\"zoom:30%;\" />\n",
    "\n",
    "#### 圖二 (是我前後調整的結果)\n",
    "<img src=\"./report.png\" style=\"zoom:30%;\" />"
   ],
   "metadata": {}
  },
  {
   "cell_type": "code",
   "execution_count": 175,
   "source": [
    "# Read data\r\n",
    "\"\"\" Your code here \"\"\"\r\n",
    "x_all_train = np.load('x_train.npy')\r\n",
    "x_test = np.load('x_test.npy')\r\n",
    "y_all_train = np.load('y_train.npy')\r\n",
    "y_test = np.load('y_test.npy')\r\n",
    "print(x_all_train.shape,  x_test.shape, y_all_train.shape, y_test.shape)\r\n",
    "\r\n",
    "\r\n"
   ],
   "outputs": [
    {
     "output_type": "stream",
     "name": "stdout",
     "text": [
      "(1095, 89) (365, 89) (1095,) (365,)\n"
     ]
    }
   ],
   "metadata": {}
  },
  {
   "cell_type": "markdown",
   "source": [
    "## 請同學先依照上課的知識，調整一個沒有 overfitting 的決策樹，請以 mape 作為參考誤差指標，較容易看出關係"
   ],
   "metadata": {}
  },
  {
   "cell_type": "code",
   "execution_count": 183,
   "source": [
    "import pandas as pd\r\n",
    "import numpy as np\r\n",
    "import matplotlib.pyplot as plt\r\n",
    "\r\n",
    "from sklearn.model_selection import train_test_split\r\n",
    "from sklearn.tree import DecisionTreeRegressor\r\n",
    "from sklearn.metrics import mean_squared_error as MSE\r\n",
    "from sklearn.metrics import mean_absolute_error as MAE\r\n",
    "from sklearn.metrics import mean_absolute_percentage_error as MAPE"
   ],
   "outputs": [],
   "metadata": {}
  },
  {
   "cell_type": "code",
   "execution_count": 282,
   "source": [
    "x_train = np.load('x_train.npy')\r\n",
    "y_train = np.load('y_train.npy')\r\n",
    "x_test = np.load('x_test.npy')\r\n",
    "y_test = np.load('y_test.npy')\r\n",
    "\r\n"
   ],
   "outputs": [],
   "metadata": {}
  },
  {
   "cell_type": "code",
   "execution_count": null,
   "source": [
    "# 切分驗證集\r\n",
    "x_train, x_val, y_train, y_val = train_test_split(x_all_train, y_all_train, test_size = 0.20)\r\n",
    "print(x_train.shape, x_val.shape, x_test.shape, y_train.shape, y_val.shape, y_test.shape)"
   ],
   "outputs": [],
   "metadata": {}
  },
  {
   "cell_type": "code",
   "execution_count": 185,
   "source": [
    "\"\"\" Your code here \"\"\"\r\n",
    "\r\n",
    "def regression_report(y_true, pred, verbose = False):\r\n",
    "    mse = MSE(y_true, pred)\r\n",
    "    mae = MAE(y_true, pred)\r\n",
    "    rmse = np.sqrt(mse)\r\n",
    "    mape = MAPE(y_true, pred)\r\n",
    "    if verbose:\r\n",
    "        print(f'mse = {mse:.4f}')\r\n",
    "        print(f'mae = {mae:.4f}')\r\n",
    "        print(f'rmse = {rmse:.4f}')\r\n",
    "        print(f'mape = {mape:.4f}')\r\n",
    "    re_list = [f'mse = {mse:.4f}', f'mae = {mae:.4f}', f'rmse = {rmse:.4f}', f'mape = {mape:.4f}']\r\n",
    "    return re_list\r\n",
    "\r\n",
    "# 模型參數\r\n",
    "clf = DecisionTreeRegressor(criterion='mae', max_depth = 5, splitter = \"best\", max_features=0.99, random_state=90)\r\n",
    "clf.fit(x_train, y_train)\r\n",
    "\r\n",
    "\r\n",
    "tra_pred = clf.predict(x_train)\r\n",
    "tra_rpt = regression_report(y_train, tra_pred)\r\n",
    "\r\n",
    "val_pred = clf.predict(x_val)\r\n",
    "val_rpt = regression_report(y_val, val_pred)\r\n",
    "\r\n",
    "test_pred = clf.predict(x_test)\r\n",
    "test_rpt = regression_report(y_test, test_pred)\r\n",
    "\r\n",
    "for tr, v, tes in zip(tra_rpt, val_rpt, test_rpt):\r\n",
    "    print(f\"Training report:{tr}    validation report:{v}      Testing report:{tes}\")\r\n",
    "\r\n",
    "\r\n"
   ],
   "outputs": [
    {
     "output_type": "stream",
     "name": "stdout",
     "text": [
      "Training report:mse = 862036798.2580    validation report:mse = 903971229.7614      Testing report:mse = 1701166832.5377\n",
      "Training report:mae = 18317.8105    validation report:mae = 20966.4680      Testing report:mae = 25219.1274\n",
      "Training report:rmse = 29360.4632    validation report:rmse = 30066.1143      Testing report:rmse = 41245.2038\n",
      "Training report:mape = 0.1072    validation report:mape = 0.1363      Testing report:mape = 0.1429\n"
     ]
    }
   ],
   "metadata": {}
  },
  {
   "cell_type": "code",
   "execution_count": 179,
   "source": [
    "from sklearn.tree import export_graphviz\r\n",
    "\r\n",
    "export_graphviz(clf, out_file=\"tree.dot\", \r\n",
    "                filled=True, rounded=True,\r\n",
    "                special_characters=True)\r\n",
    "\r\n",
    "from os import system\r\n",
    "system(\"dot -Tpng tree.dot -o tree.png\")   # 將dot檔轉換為png\r\n",
    "\r\n",
    "# 直接讀取該圖檔案裡的圖\r\n",
    "import matplotlib.image as mpimg\r\n",
    "img = mpimg.imread('tree.png')\r\n",
    "fig = plt.figure(figsize=(10,8))\r\n",
    "plt.imshow(img)\r\n",
    "\r\n",
    "\r\n",
    "\r\n"
   ],
   "outputs": [
    {
     "output_type": "execute_result",
     "data": {
      "text/plain": [
       "<matplotlib.image.AxesImage at 0x23c09b0cc50>"
      ]
     },
     "metadata": {},
     "execution_count": 179
    },
    {
     "output_type": "display_data",
     "data": {
      "text/plain": [
       "<Figure size 720x576 with 1 Axes>"
      ],
      "image/png": "[encoded data removed]"
     },
     "metadata": {
      "needs_background": "light"
     }
    }
   ],
   "metadata": {}
  },
  {
   "cell_type": "markdown",
   "source": [
    "## 調整 決策樹參數\n",
    "### 請同學從 criterion 的設定中，判斷這組資料集裡的 outlier 多嗎？"
   ],
   "metadata": {}
  },
  {
   "cell_type": "code",
   "execution_count": 180,
   "source": [
    "\"\"\" Your code here \"\"\"\r\n",
    "\r\n",
    "\r\n",
    "def regression_report(y_true, pred, verbose = False):\r\n",
    "    mse = MSE(y_true, pred)\r\n",
    "    mae = MAE(y_true, pred)\r\n",
    "    rmse = np.sqrt(mse)\r\n",
    "    mape = MAPE(y_true, pred)\r\n",
    "    if verbose:\r\n",
    "        print(f'mse = {mse:.4f}')\r\n",
    "        print(f'mae = {mae:.4f}')\r\n",
    "        print(f'rmse = {rmse:.4f}')\r\n",
    "        print(f'mape = {mape:.4f}')\r\n",
    "    re_list = [f'mse = {mse:.4f}', f'mae = {mae:.4f}', f'rmse = {rmse:.4f}', f'mape = {mape:.4f}']\r\n",
    "    return re_list\r\n",
    "\r\n",
    "# 模型參數\r\n",
    "clf = DecisionTreeRegressor(criterion='mse', max_depth = 5, splitter = \"best\", max_features=0.99)\r\n",
    "clf.fit(x_train, y_train)\r\n",
    "\r\n",
    "\r\n",
    "tra_pred = clf.predict(x_train)\r\n",
    "tra_rpt = regression_report(y_train, tra_pred)\r\n",
    "\r\n",
    "val_pred = clf.predict(x_val)\r\n",
    "val_rpt = regression_report(y_val, val_pred)\r\n",
    "\r\n",
    "test_pred = clf.predict(x_test)\r\n",
    "test_rpt = regression_report(y_test, test_pred)\r\n",
    "print('mse:')\r\n",
    "for tr, v, tes in zip(tra_rpt, val_rpt, test_rpt):\r\n",
    "    print(f\"Training report:{tr}    validation report:{v}      Testing report:{tes}\")\r\n",
    "\r\n",
    "# 模型參數\r\n",
    "clf = DecisionTreeRegressor(criterion='mae', max_depth = 5, splitter = \"best\", random_state=90)\r\n",
    "clf.fit(x_train, y_train)\r\n",
    "\r\n",
    "\r\n",
    "tra_pred = clf.predict(x_train)\r\n",
    "tra_rpt = regression_report(y_train, tra_pred)\r\n",
    "\r\n",
    "val_pred = clf.predict(x_val)\r\n",
    "val_rpt = regression_report(y_val, val_pred)\r\n",
    "\r\n",
    "test_pred = clf.predict(x_test)\r\n",
    "test_rpt = regression_report(y_test, test_pred)\r\n",
    "\r\n",
    "print('mae:')\r\n",
    "for tr, v, tes in zip(tra_rpt, val_rpt, test_rpt):\r\n",
    "    print(f\"Training report:{tr}    validation report:{v}      Testing report:{tes}\")\r\n",
    "\r\n",
    "\r\n",
    "# 只有mape有可能會發現離群值，因為如果出現離群值這樣mape的分母就會越大，這樣直就會越小，這樣最初來的評價就會越小，這樣會造成評價失真\r\n"
   ],
   "outputs": [
    {
     "output_type": "stream",
     "name": "stdout",
     "text": [
      "(876, 89) (219, 89) (365, 89) (876,) (219,) (365,)\n",
      "mse:\n",
      "Training report:mse = 677930990.3147    validation report:mse = 1588460610.0730      Testing report:mse = 1921662901.7495\n",
      "Training report:mae = 17597.1286    validation report:mae = 25363.8319      Testing report:mae = 23636.2931\n",
      "Training report:rmse = 26037.1079    validation report:rmse = 39855.4966      Testing report:rmse = 43836.7757\n",
      "Training report:mape = 0.1080    validation report:mape = 0.1441      Testing report:mape = 0.1328\n",
      "mae:\n",
      "Training report:mse = 941316300.6478    validation report:mse = 2653701846.6792      Testing report:mse = 2401929506.5404\n",
      "Training report:mae = 18991.6929    validation report:mae = 23791.2808      Testing report:mae = 27879.1137\n",
      "Training report:rmse = 30680.8784    validation report:rmse = 51514.0937      Testing report:rmse = 49009.4838\n",
      "Training report:mape = 0.1114    validation report:mape = 0.1338      Testing report:mape = 0.1527\n"
     ]
    }
   ],
   "metadata": {}
  },
  {
   "cell_type": "markdown",
   "source": [
    "## 參數探測"
   ],
   "metadata": {}
  },
  {
   "cell_type": "code",
   "execution_count": 268,
   "source": [
    "# 參數調整\r\n",
    "def regression_report(y_true, pred, verbose = False):\r\n",
    "    mse = MSE(y_true, pred)\r\n",
    "    mae = MAE(y_true, pred)\r\n",
    "    rmse = np.sqrt(mse)\r\n",
    "    mape = MAPE(y_true, pred)\r\n",
    "    if verbose:\r\n",
    "        print(f'mse = {mse:.4f}')\r\n",
    "        print(f'mae = {mae:.4f}')\r\n",
    "        print(f'rmse = {rmse:.4f}')\r\n",
    "        print(f'mape = {mape:.4f}')\r\n",
    "    re_list = [mse, mae,rmse,mape]\r\n",
    "    return re_list\r\n",
    "\r\n",
    "\r\n",
    "\r\n",
    "mse_list = []\r\n",
    "mae_list = []\r\n",
    "rmse_list = []\r\n",
    "mape_list = []\r\n",
    "condition_params = [i for i in np.arange(150,300,1)]\r\n",
    "\r\n",
    "for i in condition_params:\r\n",
    "    # 模型參數\r\n",
    "    clf = DecisionTreeRegressor(ccp_alpha = i, random_state=90)\r\n",
    "    clf.fit(x_train, y_train)\r\n",
    "\r\n",
    "    val_pred = clf.predict(x_val)\r\n",
    "    report_number_list = regression_report(y_val, val_pred)\r\n",
    "\r\n",
    "    mape_list.append(report_number_list[3])\r\n",
    "\r\n",
    "plt.plot(condition_params,mape_list, 'b-o',label = 'mape')\r\n",
    "plt.show()"
   ],
   "outputs": [
    {
     "output_type": "display_data",
     "data": {
      "text/plain": [
       "<Figure size 432x288 with 1 Axes>"
      ],
      "image/png": "[encoded data removed]"
     },
     "metadata": {
      "needs_background": "light"
     }
    }
   ],
   "metadata": {}
  },
  {
   "cell_type": "markdown",
   "source": [
    "## 驗證集探測"
   ],
   "metadata": {}
  },
  {
   "cell_type": "code",
   "execution_count": 318,
   "source": [
    "# 參數調整\r\n",
    "def regression_report(y_true, pred, verbose = False):\r\n",
    "    mse = MSE(y_true, pred)\r\n",
    "    mae = MAE(y_true, pred)\r\n",
    "    rmse = np.sqrt(mse)\r\n",
    "    mape = MAPE(y_true, pred)\r\n",
    "    if verbose:\r\n",
    "        print(f'mse = {mse:.4f}')\r\n",
    "        print(f'mae = {mae:.4f}')\r\n",
    "        print(f'rmse = {rmse:.4f}')\r\n",
    "        print(f'mape = {mape:.4f}')\r\n",
    "    re_list = [mse, mae,rmse,mape]\r\n",
    "    return re_list\r\n",
    "\r\n",
    "\r\n",
    "\r\n",
    "mse_list = []\r\n",
    "mae_list = []\r\n",
    "rmse_list = []\r\n",
    "mape_list = []\r\n",
    "condition_params = [i for i in np.arange(0.1,0.3,0.01)]\r\n",
    "\r\n",
    "for i in condition_params:\r\n",
    "    x_train, x_val, y_train, y_val = train_test_split(x_all_train, y_all_train, test_size = i)\r\n",
    "    # 模型參數\r\n",
    "    clf = DecisionTreeRegressor(criterion='friedman_mse')\r\n",
    "    clf.fit(x_train, y_train)\r\n",
    "\r\n",
    "    val_pred = clf.predict(x_val)\r\n",
    "    report_number_list = regression_report(y_val, val_pred)\r\n",
    "\r\n",
    "    mape_list.append(report_number_list[3])\r\n",
    "\r\n",
    "plt.plot(condition_params,mape_list, 'b-o',label = 'mape')\r\n",
    "plt.show()"
   ],
   "outputs": [
    {
     "output_type": "display_data",
     "data": {
      "text/plain": [
       "<Figure size 432x288 with 1 Axes>"
      ],
      "image/png": "[encoded data removed]"
     },
     "metadata": {
      "needs_background": "light"
     }
    }
   ],
   "metadata": {}
  },
  {
   "cell_type": "markdown",
   "source": [
    "## 最佳參數設定"
   ],
   "metadata": {}
  },
  {
   "cell_type": "code",
   "execution_count": 344,
   "source": [
    "# 切分驗證集\r\n",
    "x_train, x_val, y_train, y_val = train_test_split(x_all_train, y_all_train, test_size = 0.17)\r\n",
    "print(x_train.shape, x_val.shape, x_test.shape, y_train.shape, y_val.shape, y_test.shape)\r\n",
    "\r\n",
    "######################## 最佳參數設定\r\n",
    "def regression_report(y_true, pred, verbose = False):\r\n",
    "    mse = MSE(y_true, pred)\r\n",
    "    mae = MAE(y_true, pred)\r\n",
    "    rmse = np.sqrt(mse)\r\n",
    "    mape = MAPE(y_true, pred)\r\n",
    "    if verbose:\r\n",
    "        print(f'mse = {mse:.4f}')\r\n",
    "        print(f'mae = {mae:.4f}')\r\n",
    "        print(f'rmse = {rmse:.4f}')\r\n",
    "        print(f'mape = {mape:.4f}')\r\n",
    "    re_list = [f'mse = {mse:.4f}', f'mae = {mae:.4f}', f'rmse = {rmse:.4f}', f'mape = {mape:.4f}']\r\n",
    "    return re_list\r\n",
    "\r\n",
    "# 模型參數\r\n",
    "clf = DecisionTreeRegressor(criterion='friedman_mse', max_depth = 7, splitter = \"best\", max_features=0.7, min_samples_split = 61, min_samples_leaf = 18, max_leaf_nodes = 73)\r\n",
    "clf.fit(x_train, y_train)\r\n",
    "\r\n",
    "\r\n",
    "tra_pred = clf.predict(x_train)\r\n",
    "tra_rpt = regression_report(y_train, tra_pred)\r\n",
    "\r\n",
    "val_pred = clf.predict(x_val)\r\n",
    "val_rpt = regression_report(y_val, val_pred)\r\n",
    "\r\n",
    "test_pred = clf.predict(x_test)\r\n",
    "test_rpt = regression_report(y_test, test_pred)\r\n",
    "\r\n",
    "for tr, v, tes in zip(tra_rpt, val_rpt, test_rpt):\r\n",
    "    print(f\"Training report:{tr}    validation report:{v}      Testing report:{tes}\")"
   ],
   "outputs": [
    {
     "output_type": "stream",
     "name": "stdout",
     "text": [
      "(908, 89) (187, 89) (365, 89) (908,) (187,) (365,)\n",
      "Training report:mse = 1226016589.4204    validation report:mse = 840991012.6866      Testing report:mse = 1889008565.5073\n",
      "Training report:mae = 21433.2704    validation report:mae = 21457.3950      Testing report:mae = 25311.6900\n",
      "Training report:rmse = 35014.5197    validation report:rmse = 28999.8450      Testing report:rmse = 43462.7262\n",
      "Training report:mape = 0.1235    validation report:mape = 0.1255      Testing report:mape = 0.1389\n"
     ]
    }
   ],
   "metadata": {}
  },
  {
   "cell_type": "code",
   "execution_count": null,
   "source": [],
   "outputs": [],
   "metadata": {}
  },
  {
   "cell_type": "code",
   "execution_count": null,
   "source": [],
   "outputs": [],
   "metadata": {}
  }
 ]
}