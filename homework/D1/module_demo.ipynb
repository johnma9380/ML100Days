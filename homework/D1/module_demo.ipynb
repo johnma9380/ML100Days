{
 "cells": [
  {
   "cell_type": "code",
   "execution_count": 1,
   "metadata": {},
   "outputs": [],
   "source": [
    "import numpy as np\n",
    "import pandas as pd"
   ]
  },
  {
   "cell_type": "markdown",
   "metadata": {},
   "source": [
    "# Numpy 教學\n",
    "## 1. Numpy array 建立"
   ]
  },
  {
   "cell_type": "code",
   "execution_count": 2,
   "metadata": {},
   "outputs": [
    {
     "name": "stdout",
     "output_type": "stream",
     "text": [
      "[[0. 0. 0.]\n",
      " [0. 0. 0.]\n",
      " [0. 0. 0.]]\n",
      "\n",
      "[[1. 1. 1.]\n",
      " [1. 1. 1.]\n",
      " [1. 1. 1.]]\n",
      "\n",
      "[[0.0e+000 0.0e+000 0.0e+000]\n",
      " [0.0e+000 0.0e+000 8.5e-321]\n",
      " [0.0e+000 0.0e+000 0.0e+000]]\n",
      "\n",
      "[0 3 6 9]\n",
      "\n",
      "[ 0.  6. 12.]\n",
      "\n",
      "[0. 0. 0. 0. 0. 0. 0. 0. 0.]\n"
     ]
    }
   ],
   "source": [
    "Zeros = np.zeros((3, 3))\n",
    "Ones = np.ones((3, 3))\n",
    "Empty = np.empty((3, 3))\n",
    "Arange = np.arange(0, 12, 3)\n",
    "Line = np.linspace(0, 12, 3)\n",
    "Reshape = Zeros.reshape(-1)\n",
    "print(Zeros, Ones, Empty, Arange, Line, Reshape, sep = '\\n\\n')"
   ]
  },
  {
   "cell_type": "markdown",
   "metadata": {},
   "source": [
    "## 2. Numpy 計算"
   ]
  },
  {
   "cell_type": "code",
   "execution_count": 3,
   "metadata": {},
   "outputs": [
    {
     "name": "stdout",
     "output_type": "stream",
     "text": [
      "[[ 0  1  2  3]\n",
      " [ 4  5  6  7]\n",
      " [ 8  9 10 11]] \n",
      "\n",
      "sum1, sum2, sum3, sum4, sum5 = ([12 15 18 21], [ 6 22 38], 66, 66, 66)\n"
     ]
    }
   ],
   "source": [
    "arr = np.arange(0, 12).reshape((3, 4))\n",
    "sum1 = np.sum(arr, axis = 0)\n",
    "sum2 = np.sum(arr, axis = 1)\n",
    "sum3 = np.sum(arr, axis = (0, 1))\n",
    "sum4 = np.sum(arr, axis = (1, 0))\n",
    "sum5 = np.sum(arr)\n",
    "print(arr, '\\n')\n",
    "print(f'sum1, sum2, sum3, sum4, sum5 = ({sum1}, {sum2}, {sum3}, {sum4}, {sum5})')"
   ]
  },
  {
   "cell_type": "code",
   "execution_count": 4,
   "metadata": {},
   "outputs": [
    {
     "name": "stdout",
     "output_type": "stream",
     "text": [
      "[24 30 36 42]\n",
      "\n",
      "[0 0 0 0]\n",
      "\n",
      "[36 45 54 63]\n",
      "\n",
      "[ 6.   7.5  9.  10.5]\n"
     ]
    }
   ],
   "source": [
    "print(sum1 + sum1, sum1 - sum1, sum1 * 3, sum1 / 2, sep = '\\n\\n')\n",
    "# sum1 + sum2"
   ]
  },
  {
   "cell_type": "code",
   "execution_count": 5,
   "metadata": {},
   "outputs": [
    {
     "name": "stdout",
     "output_type": "stream",
     "text": [
      "[[False False False False]\n",
      " [False  True False False]\n",
      " [False False False False]]\n",
      "\n",
      "[[False False False False]\n",
      " [False False  True  True]\n",
      " [ True  True  True  True]]\n",
      "\n",
      "[[ True  True  True  True]\n",
      " [ True False False False]\n",
      " [False False False False]]\n"
     ]
    }
   ],
   "source": [
    "print(arr == 5, arr > 5, arr <5, sep = '\\n\\n')"
   ]
  },
  {
   "cell_type": "markdown",
   "metadata": {},
   "source": [
    "## 3. Numpy IO"
   ]
  },
  {
   "cell_type": "code",
   "execution_count": 28,
   "metadata": {},
   "outputs": [],
   "source": [
    "np.save('arr.npy', arr)\n",
    "arr = np.load('arr.npy')"
   ]
  },
  {
   "cell_type": "markdown",
   "metadata": {},
   "source": [
    "# Pandas 教學\n",
    "## 1. Pandas 型別\n",
    "* Series\n",
    "* Dataframe"
   ]
  },
  {
   "cell_type": "code",
   "execution_count": 6,
   "metadata": {},
   "outputs": [
    {
     "name": "stdout",
     "output_type": "stream",
     "text": [
      "0    12\n",
      "1    15\n",
      "2    18\n",
      "3    21\n",
      "dtype: int32\n",
      "\n",
      "0    1\n",
      "1    2\n",
      "2    3\n",
      "3    4\n",
      "dtype: int64\n"
     ]
    }
   ],
   "source": [
    "# ------------- Series -------------\n",
    "\n",
    "# From numpy array\n",
    "series1 = pd.Series(sum1)\n",
    "\n",
    "# From Python's list\n",
    "series2 = pd.Series([1, 2, 3, 4])\n",
    "\n",
    "print(series1, series2, sep = '\\n\\n')"
   ]
  },
  {
   "cell_type": "code",
   "execution_count": 7,
   "metadata": {},
   "outputs": [
    {
     "name": "stdout",
     "output_type": "stream",
     "text": [
      "                col0      col1      col2      col3\n",
      "2021-01-01  2.387573 -0.742045  0.332856  0.935185\n",
      "2021-01-02 -0.499635  0.511394  1.654337 -0.108647\n",
      "2021-01-03  0.912221  0.635797  0.208728 -0.172415\n",
      "2021-01-04  0.792097  0.721581 -0.250233 -0.941386\n",
      "2021-01-05 -0.116520  0.441091  1.154207  0.200366\n",
      "2021-01-06 -0.152512 -0.122539 -0.907870 -1.874231 \n",
      "\n",
      "DatetimeIndex(['2021-01-01', '2021-01-02', '2021-01-03', '2021-01-04',\n",
      "               '2021-01-05', '2021-01-06'],\n",
      "              dtype='datetime64[ns]', freq='D')\n",
      "\n",
      "Index(['col0', 'col1', 'col2', 'col3'], dtype='object')\n",
      "\n",
      "           col0      col1      col2      col3\n",
      "count  6.000000  6.000000  6.000000  6.000000\n",
      "mean   0.553871  0.240880  0.365338 -0.326855\n",
      "std    1.058859  0.565422  0.928375  0.970999\n",
      "min   -0.499635 -0.742045 -0.907870 -1.874231\n",
      "25%   -0.143514  0.018368 -0.135493 -0.749143\n",
      "50%    0.337788  0.476243  0.270792 -0.140531\n",
      "75%    0.882190  0.604696  0.948869  0.123113\n",
      "max    2.387573  0.721581  1.654337  0.935185\n"
     ]
    }
   ],
   "source": [
    "# ------------- Dataframe -------------\n",
    "dates = pd.date_range('20210101',periods = 6)\n",
    "df = pd.DataFrame(np.random.randn(6, 4), index=dates, columns = [f\"col{i}\" for i in range(4)])\n",
    "print(df, '\\n')\n",
    "print(df.index, df.columns, df.describe(), sep = '\\n\\n')"
   ]
  },
  {
   "cell_type": "markdown",
   "metadata": {},
   "source": [
    "## 2. 索引\n",
    "* simple\n",
    "* loc\n",
    "* iloc\n",
    "* ix(deprecated in 0.20.0 version)"
   ]
  },
  {
   "cell_type": "code",
   "execution_count": 8,
   "metadata": {},
   "outputs": [
    {
     "name": "stdout",
     "output_type": "stream",
     "text": [
      "------- simple demo -------\n",
      "2021-01-01   -0.742045\n",
      "2021-01-02    0.511394\n",
      "2021-01-03    0.635797\n",
      "2021-01-04    0.721581\n",
      "2021-01-05    0.441091\n",
      "2021-01-06   -0.122539\n",
      "Freq: D, Name: col1, dtype: float64\n",
      "\n",
      "                col1      col2\n",
      "2021-01-01 -0.742045  0.332856\n",
      "2021-01-02  0.511394  1.654337\n",
      "2021-01-03  0.635797  0.208728\n",
      "2021-01-04  0.721581 -0.250233\n",
      "2021-01-05  0.441091  1.154207\n",
      "2021-01-06 -0.122539 -0.907870\n",
      "\n",
      "2021-01-01   -0.742045\n",
      "2021-01-02    0.511394\n",
      "Freq: D, Name: col1, dtype: float64\n",
      "\n",
      "2021-01-01   -0.742045\n",
      "2021-01-02    0.511394\n",
      "Freq: D, Name: col1, dtype: float64\n",
      "\n",
      "------- loc demo -------\n",
      "2021-01-01   -0.742045\n",
      "2021-01-02    0.511394\n",
      "Freq: D, Name: col1, dtype: float64\n",
      "\n",
      "------- iloc demo -------\n",
      "                col0      col1      col2      col3\n",
      "2021-01-01  2.387573 -0.742045  0.332856  0.935185\n",
      "2021-01-02 -0.499635  0.511394  1.654337 -0.108647\n",
      "\n"
     ]
    }
   ],
   "source": [
    "# simple(順序沒差)\n",
    "print('------- simple demo -------')\n",
    "print(df['col1'], df[['col1', 'col2']], df[:'2021-01-02']['col1'], df['col1'][:'2021-01-02'], sep = '\\n\\n')\n",
    "print()\n",
    "\n",
    "# loc (先 row 後 column)\n",
    "print('------- loc demo -------')\n",
    "print(df.loc[:'2021-01-02']['col1'], sep = '\\n\\n')\n",
    "print()\n",
    "# df['col1']\n",
    "\n",
    "# iloc (先 row 後 column)\n",
    "print('------- iloc demo -------')\n",
    "print(df.iloc[:2][:3], sep = '\\n\\n')\n",
    "print()\n",
    "\n",
    "# !! ix had deprecated in Pandas == 0.20.0 !!\n",
    "# ix (先 row 後 column)\n",
    "# print(df.ix[:2][:col3], sep = '\\n\\n')\n",
    "# print()\n"
   ]
  },
  {
   "cell_type": "markdown",
   "metadata": {},
   "source": [
    "## 3. 合併與連接\n",
    "- pandas.concat\n",
    "- pandas.merge"
   ]
  },
  {
   "cell_type": "code",
   "execution_count": 14,
   "metadata": {},
   "outputs": [
    {
     "name": "stdout",
     "output_type": "stream",
     "text": [
      "df: \n",
      "                col0      col1      col2      col3\n",
      "2021-01-01  2.387573 -0.742045  0.332856  0.935185\n",
      "2021-01-02 -0.499635  0.511394  1.654337 -0.108647\n",
      "2021-01-03  0.912221  0.635797  0.208728 -0.172415\n",
      "2021-01-04  0.792097  0.721581 -0.250233 -0.941386\n",
      "2021-01-05 -0.116520  0.441091  1.154207  0.200366\n",
      "2021-01-06 -0.152512 -0.122539 -0.907870 -1.874231\n",
      "\n",
      "tmp: \n",
      "                col2      col3      col4      col5\n",
      "2021-01-01 -0.261600 -1.983739 -1.092057 -0.949890\n",
      "2021-01-02 -1.017222  1.352584 -1.157505 -0.515708\n",
      "2021-01-03 -0.013923  0.052556  0.562654  0.045690\n",
      "2021-01-04 -0.555140 -0.679610 -0.399681  0.960551\n",
      "2021-01-05  0.705528 -1.213308 -1.060807 -0.301329\n",
      "2021-01-06 -1.535210  1.340594 -0.060831  0.187853\n",
      "\n",
      "------- axis demo -------\n",
      "axis = 1: \n",
      "                col0      col1      col2      col3      col2      col3  \\\n",
      "2021-01-01  2.387573 -0.742045  0.332856  0.935185 -0.261600 -1.983739   \n",
      "2021-01-02 -0.499635  0.511394  1.654337 -0.108647 -1.017222  1.352584   \n",
      "2021-01-03  0.912221  0.635797  0.208728 -0.172415 -0.013923  0.052556   \n",
      "2021-01-04  0.792097  0.721581 -0.250233 -0.941386 -0.555140 -0.679610   \n",
      "2021-01-05 -0.116520  0.441091  1.154207  0.200366  0.705528 -1.213308   \n",
      "2021-01-06 -0.152512 -0.122539 -0.907870 -1.874231 -1.535210  1.340594   \n",
      "\n",
      "                col4      col5  \n",
      "2021-01-01 -1.092057 -0.949890  \n",
      "2021-01-02 -1.157505 -0.515708  \n",
      "2021-01-03  0.562654  0.045690  \n",
      "2021-01-04 -0.399681  0.960551  \n",
      "2021-01-05 -1.060807 -0.301329  \n",
      "2021-01-06 -0.060831  0.187853  \n",
      "\n",
      "axis = 0: \n",
      "                col0      col1      col2      col3      col4      col5\n",
      "2021-01-01  2.387573 -0.742045  0.332856  0.935185       NaN       NaN\n",
      "2021-01-02 -0.499635  0.511394  1.654337 -0.108647       NaN       NaN\n",
      "2021-01-03  0.912221  0.635797  0.208728 -0.172415       NaN       NaN\n",
      "2021-01-04  0.792097  0.721581 -0.250233 -0.941386       NaN       NaN\n",
      "2021-01-05 -0.116520  0.441091  1.154207  0.200366       NaN       NaN\n",
      "2021-01-06 -0.152512 -0.122539 -0.907870 -1.874231       NaN       NaN\n",
      "2021-01-01       NaN       NaN -0.261600 -1.983739 -1.092057 -0.949890\n",
      "2021-01-02       NaN       NaN -1.017222  1.352584 -1.157505 -0.515708\n",
      "2021-01-03       NaN       NaN -0.013923  0.052556  0.562654  0.045690\n",
      "2021-01-04       NaN       NaN -0.555140 -0.679610 -0.399681  0.960551\n",
      "2021-01-05       NaN       NaN  0.705528 -1.213308 -1.060807 -0.301329\n",
      "2021-01-06       NaN       NaN -1.535210  1.340594 -0.060831  0.187853\n",
      "\n",
      "------- join demo --------\n",
      "join = outer: \n",
      "                col0      col1      col2      col3      col4      col5\n",
      "2021-01-01  2.387573 -0.742045  0.332856  0.935185       NaN       NaN\n",
      "2021-01-02 -0.499635  0.511394  1.654337 -0.108647       NaN       NaN\n",
      "2021-01-03  0.912221  0.635797  0.208728 -0.172415       NaN       NaN\n",
      "2021-01-04  0.792097  0.721581 -0.250233 -0.941386       NaN       NaN\n",
      "2021-01-05 -0.116520  0.441091  1.154207  0.200366       NaN       NaN\n",
      "2021-01-06 -0.152512 -0.122539 -0.907870 -1.874231       NaN       NaN\n",
      "2021-01-01       NaN       NaN -0.261600 -1.983739 -1.092057 -0.949890\n",
      "2021-01-02       NaN       NaN -1.017222  1.352584 -1.157505 -0.515708\n",
      "2021-01-03       NaN       NaN -0.013923  0.052556  0.562654  0.045690\n",
      "2021-01-04       NaN       NaN -0.555140 -0.679610 -0.399681  0.960551\n",
      "2021-01-05       NaN       NaN  0.705528 -1.213308 -1.060807 -0.301329\n",
      "2021-01-06       NaN       NaN -1.535210  1.340594 -0.060831  0.187853\n",
      "\n",
      "join = inner: \n",
      "                col2      col3\n",
      "2021-01-01  0.332856  0.935185\n",
      "2021-01-02  1.654337 -0.108647\n",
      "2021-01-03  0.208728 -0.172415\n",
      "2021-01-04 -0.250233 -0.941386\n",
      "2021-01-05  1.154207  0.200366\n",
      "2021-01-06 -0.907870 -1.874231\n",
      "2021-01-01 -0.261600 -1.983739\n",
      "2021-01-02 -1.017222  1.352584\n",
      "2021-01-03 -0.013923  0.052556\n",
      "2021-01-04 -0.555140 -0.679610\n",
      "2021-01-05  0.705528 -1.213308\n",
      "2021-01-06 -1.535210  1.340594\n",
      "\n"
     ]
    }
   ],
   "source": [
    "# ------------- concat demo -------------\n",
    "dates = pd.date_range('20210101',periods = 6)\n",
    "tmp = pd.DataFrame(np.random.randn(6, 4), index=dates, columns = [f\"col{i}\" for i in range(2, 6)])\n",
    "print(f'df: \\n{df}\\n')\n",
    "print(f'tmp: \\n{tmp}\\n')\n",
    "\n",
    "# ------- axis demo -------\n",
    "print('------- axis demo -------')\n",
    "df1 = pd.concat([df, tmp], axis = 1)\n",
    "df2 = pd.concat([df, tmp], axis = 0)\n",
    "print(f'axis = 1: \\n{df1}\\n')\n",
    "print(f'axis = 0: \\n{df2}\\n')\n",
    "\n",
    "# ------- join demo -------\n",
    "print('------- join demo --------')\n",
    "df1 = pd.concat([df, tmp], join = 'outer') # 聯集\n",
    "df2 = pd.concat([df, tmp], join = 'inner') # 交集\n",
    "print(f'join = outer: \\n{df1}\\n')\n",
    "print(f'join = inner: \\n{df2}\\n')"
   ]
  },
  {
   "cell_type": "code",
   "execution_count": 16,
   "metadata": {},
   "outputs": [
    {
     "data": {
      "text/plain": [
       "True"
      ]
     },
     "execution_count": 16,
     "metadata": {},
     "output_type": "execute_result"
    }
   ],
   "source": [
    "True in np.asarray(df1.isnull())"
   ]
  },
  {
   "cell_type": "code",
   "execution_count": 17,
   "metadata": {},
   "outputs": [
    {
     "data": {
      "text/html": [
       "<div>\n",
       "<style scoped>\n",
       "    .dataframe tbody tr th:only-of-type {\n",
       "        vertical-align: middle;\n",
       "    }\n",
       "\n",
       "    .dataframe tbody tr th {\n",
       "        vertical-align: top;\n",
       "    }\n",
       "\n",
       "    .dataframe thead th {\n",
       "        text-align: right;\n",
       "    }\n",
       "</style>\n",
       "<table border=\"1\" class=\"dataframe\">\n",
       "  <thead>\n",
       "    <tr style=\"text-align: right;\">\n",
       "      <th></th>\n",
       "      <th>col0</th>\n",
       "      <th>col1</th>\n",
       "      <th>col2</th>\n",
       "      <th>col3</th>\n",
       "    </tr>\n",
       "  </thead>\n",
       "  <tbody>\n",
       "    <tr>\n",
       "      <th>2021-01-01</th>\n",
       "      <td>False</td>\n",
       "      <td>False</td>\n",
       "      <td>False</td>\n",
       "      <td>False</td>\n",
       "    </tr>\n",
       "    <tr>\n",
       "      <th>2021-01-02</th>\n",
       "      <td>False</td>\n",
       "      <td>False</td>\n",
       "      <td>False</td>\n",
       "      <td>False</td>\n",
       "    </tr>\n",
       "    <tr>\n",
       "      <th>2021-01-03</th>\n",
       "      <td>False</td>\n",
       "      <td>False</td>\n",
       "      <td>False</td>\n",
       "      <td>False</td>\n",
       "    </tr>\n",
       "    <tr>\n",
       "      <th>2021-01-04</th>\n",
       "      <td>False</td>\n",
       "      <td>False</td>\n",
       "      <td>False</td>\n",
       "      <td>False</td>\n",
       "    </tr>\n",
       "    <tr>\n",
       "      <th>2021-01-05</th>\n",
       "      <td>False</td>\n",
       "      <td>False</td>\n",
       "      <td>False</td>\n",
       "      <td>False</td>\n",
       "    </tr>\n",
       "    <tr>\n",
       "      <th>2021-01-06</th>\n",
       "      <td>False</td>\n",
       "      <td>False</td>\n",
       "      <td>False</td>\n",
       "      <td>False</td>\n",
       "    </tr>\n",
       "  </tbody>\n",
       "</table>\n",
       "</div>"
      ],
      "text/plain": [
       "             col0   col1   col2   col3\n",
       "2021-01-01  False  False  False  False\n",
       "2021-01-02  False  False  False  False\n",
       "2021-01-03  False  False  False  False\n",
       "2021-01-04  False  False  False  False\n",
       "2021-01-05  False  False  False  False\n",
       "2021-01-06  False  False  False  False"
      ]
     },
     "execution_count": 17,
     "metadata": {},
     "output_type": "execute_result"
    }
   ],
   "source": [
    "df.isnull()"
   ]
  },
  {
   "cell_type": "code",
   "execution_count": 18,
   "metadata": {},
   "outputs": [
    {
     "name": "stdout",
     "output_type": "stream",
     "text": [
      "left:\n",
      "  key1 key2   A   B\n",
      "0   K0   K0  A0  B0\n",
      "1   K0   K1  A1  B1\n",
      "2   K1   K0  A2  B2\n",
      "3   K2   K1  A3  B3\n",
      "\n",
      "right:\n",
      "  key1 key2   C   D\n",
      "0   K0   K0  C0  D0\n",
      "1   K1   K0  C1  D1\n",
      "2   K1   K0  C2  D2\n",
      "3   K2   K0  C3  D3\n",
      "\n",
      "how = inner:\n",
      "  key1 key2   A   B   C   D\n",
      "0   K0   K0  A0  B0  C0  D0\n",
      "1   K1   K0  A2  B2  C1  D1\n",
      "2   K1   K0  A2  B2  C2  D2\n",
      "\n",
      "how = outer:\n",
      "  key1 key2    A    B    C    D\n",
      "0   K0   K0   A0   B0   C0   D0\n",
      "1   K0   K1   A1   B1  NaN  NaN\n",
      "2   K1   K0   A2   B2   C1   D1\n",
      "3   K1   K0   A2   B2   C2   D2\n",
      "4   K2   K1   A3   B3  NaN  NaN\n",
      "5   K2   K0  NaN  NaN   C3   D3\n",
      "\n",
      "how = left:\n",
      "  key1 key2   A   B    C    D\n",
      "0   K0   K0  A0  B0   C0   D0\n",
      "1   K0   K1  A1  B1  NaN  NaN\n",
      "2   K1   K0  A2  B2   C1   D1\n",
      "3   K1   K0  A2  B2   C2   D2\n",
      "4   K2   K1  A3  B3  NaN  NaN\n",
      "\n",
      "how = right:\n",
      "  key1 key2    A    B   C   D\n",
      "0   K0   K0   A0   B0  C0  D0\n",
      "1   K1   K0   A2   B2  C1  D1\n",
      "2   K1   K0   A2   B2  C2  D2\n",
      "3   K2   K0  NaN  NaN  C3  D3\n",
      "\n"
     ]
    }
   ],
   "source": [
    "# ------- merge -------\n",
    "left = pd.DataFrame({'key1': ['K0', 'K0', 'K1', 'K2'],\n",
    "                      'key2': ['K0', 'K1', 'K0', 'K1'],\n",
    "                      'A': ['A0', 'A1', 'A2', 'A3'],\n",
    "                      'B': ['B0', 'B1', 'B2', 'B3']})\n",
    "right = pd.DataFrame({'key1': ['K0', 'K1', 'K1', 'K2'],\n",
    "                       'key2': ['K0', 'K0', 'K0', 'K0'],\n",
    "                       'C': ['C0', 'C1', 'C2', 'C3'],\n",
    "                       'D': ['D0', 'D1', 'D2', 'D3']})\n",
    "\n",
    "print(f'left:\\n{left}\\n')\n",
    "\n",
    "\n",
    "print(f'right:\\n{right}\\n')\n",
    "\n",
    "# -------- demo how -------\n",
    "res = pd.merge(left, right, on=['key1', 'key2'], how='inner')\n",
    "print(f'how = inner:\\n{res}\\n')\n",
    "\n",
    "res = pd.merge(left, right, on=['key1', 'key2'], how='outer')\n",
    "print(f'how = outer:\\n{res}\\n')\n",
    "\n",
    "res = pd.merge(left, right, on=['key1', 'key2'], how='left')\n",
    "print(f'how = left:\\n{res}\\n')\n",
    "\n",
    "res = pd.merge(left, right, on=['key1', 'key2'], how='right')\n",
    "print(f'how = right:\\n{res}\\n')"
   ]
  },
  {
   "cell_type": "markdown",
   "metadata": {},
   "source": [
    "## 4. 統計函數"
   ]
  },
  {
   "cell_type": "code",
   "execution_count": 21,
   "metadata": {},
   "outputs": [
    {
     "data": {
      "text/plain": [
       "a   -0.159736\n",
       "b    0.374111\n",
       "c    0.106586\n",
       "d    0.008795\n",
       "e    0.385977\n",
       "dtype: float64"
      ]
     },
     "execution_count": 21,
     "metadata": {},
     "output_type": "execute_result"
    }
   ],
   "source": [
    "df.mean()"
   ]
  },
  {
   "cell_type": "code",
   "execution_count": 23,
   "metadata": {},
   "outputs": [
    {
     "name": "stdout",
     "output_type": "stream",
     "text": [
      "------- 平均數 -------\n",
      "mean: \n",
      "a   -0.214512\n",
      "b   -0.293930\n",
      "c    0.207071\n",
      "d    0.426830\n",
      "e    0.634168\n",
      "dtype: float64\n",
      "\n",
      "------- 標準差 -------\n",
      "std: \n",
      "a    1.143991\n",
      "b    1.165180\n",
      "c    0.978917\n",
      "d    1.212997\n",
      "e    1.005530\n",
      "dtype: float64\n",
      "\n",
      "------- 共變異數 -------\n",
      "cov: \n",
      "          a         b         c         d         e\n",
      "a  1.308714  0.038922 -0.322195  0.345232 -0.290702\n",
      "b  0.038922  1.357644  0.648490  0.430947 -0.792059\n",
      "c -0.322195  0.648490  0.958279  0.038230 -0.464309\n",
      "d  0.345232  0.430947  0.038230  1.471363  0.243782\n",
      "e -0.290702 -0.792059 -0.464309  0.243782  1.011090\n",
      "\n",
      "Cov(a, b) = 0.038922167716719705\n",
      "\n",
      "Cov(all): \n",
      "          a         b         c         d         e\n",
      "a  1.308714  0.038922 -0.322195  0.345232 -0.290702\n",
      "b  0.038922  1.357644  0.648490  0.430947 -0.792059\n",
      "c -0.322195  0.648490  0.958279  0.038230 -0.464309\n",
      "d  0.345232  0.430947  0.038230  1.471363  0.243782\n",
      "e -0.290702 -0.792059 -0.464309  0.243782  1.011090\n",
      "\n",
      "------- 相關係數 -------\n",
      "Corr(a, b) = 0.02919992023619405\n",
      "\n",
      "Corr(all): \n",
      "          a         b         c         d         e\n",
      "a  1.000000  0.029200 -0.287707  0.248788 -0.252715\n",
      "b  0.029200  1.000000  0.568544  0.304910 -0.676035\n",
      "c -0.287707  0.568544  1.000000  0.032196 -0.471700\n",
      "d  0.248788  0.304910  0.032196  1.000000  0.199869\n",
      "e -0.252715 -0.676035 -0.471700  0.199869  1.000000\n",
      "\n"
     ]
    }
   ],
   "source": [
    "df = pd.DataFrame(np.random.randn(10, 5), columns=[\"a\", \"b\", \"c\", \"d\", \"e\"])\n",
    "\n",
    "# ------- 平均數 -------\n",
    "print('------- 平均數 -------')\n",
    "print (f\"mean: \\n{df.mean()}\\n\")\n",
    "\n",
    "# ------- 標準差 -------\n",
    "print('------- 標準差 -------')\n",
    "print (f\"std: \\n{df.std()}\\n\")\n",
    "\n",
    "# ------- 共變異數 -------\n",
    "print('------- 共變異數 -------')\n",
    "print (f\"cov: \\n{df.cov()}\\n\")\n",
    "\n",
    "# Cov(a, b)\n",
    "print (f\"Cov(a, b) = {df['a'].cov(df['b'])}\\n\")\n",
    "\n",
    "# Cov(all)\n",
    "print (f\"Cov(all): \\n{df.cov()}\\n\")\n",
    "\n",
    "# ------- 相關係數 -------\n",
    "print('------- 相關係數 -------')\n",
    "# Corr(a, b)\n",
    "print (f\"Corr(a, b) = {df['a'].corr(df['b'])}\\n\")\n",
    "\n",
    "# Corr(all)\n",
    "print (f\"Corr(all): \\n{df.corr()}\\n\")\n",
    "\n"
   ]
  },
  {
   "cell_type": "markdown",
   "metadata": {},
   "source": [
    "## 5. 其他\n",
    "- IO(Input & Output)\n",
    "- Something about nan"
   ]
  },
  {
   "cell_type": "code",
   "execution_count": 40,
   "metadata": {},
   "outputs": [],
   "source": [
    "# -------- IO -------\n",
    "df = pd.read_csv('homework.csv')\n",
    "# df.to_csv(index = False)"
   ]
  },
  {
   "cell_type": "code",
   "execution_count": 45,
   "metadata": {},
   "outputs": [
    {
     "data": {
      "text/plain": [
       "True"
      ]
     },
     "execution_count": 45,
     "metadata": {},
     "output_type": "execute_result"
    }
   ],
   "source": [
    "# ------- Something about nan -------\n",
    "df = pd.read_csv('homework.csv')\n",
    "\n",
    "# drop \n",
    "df1 = df.dropna(axis = 0, how = 'any')\n",
    "\n",
    "# 補零\n",
    "df2 = df.fillna(value = 0)\n",
    "\n",
    "# 用一個 dictionary 填補\n",
    "df3 = df.fillna(value = {f\"col{i}\" : i for i in range(df.shape[1])})\n",
    "\n",
    "# 判斷 df 裡是否有 nan\n",
    "True in np.asarray(df.isnull())"
   ]
  },
  {
   "cell_type": "code",
   "execution_count": null,
   "metadata": {},
   "outputs": [],
   "source": []
  }
 ],
 "metadata": {
  "kernelspec": {
   "display_name": "Python 3",
   "language": "python",
   "name": "python3"
  },
  "language_info": {
   "codemirror_mode": {
    "name": "ipython",
    "version": 3
   },
   "file_extension": ".py",
   "mimetype": "text/x-python",
   "name": "python",
   "nbconvert_exporter": "python",
   "pygments_lexer": "ipython3",
   "version": "3.8.2"
  },
  "metadata": {
   "interpreter": {
    "hash": "aee8b7b246df8f9039afb4144a1f6fd8d2ca17a180786b69acc140d282b71a49"
   }
  }
 },
 "nbformat": 4,
 "nbformat_minor": 5
}
